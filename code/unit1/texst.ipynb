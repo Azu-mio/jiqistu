{
 "cells": [
  {
   "cell_type": "code",
   "execution_count": 5,
   "id": "b84260be",
   "metadata": {},
   "outputs": [],
   "source": [
    "import torch\n",
    "import numpy as np"
   ]
  },
  {
   "cell_type": "code",
   "execution_count": 18,
   "id": "b8b87a00",
   "metadata": {},
   "outputs": [
    {
     "name": "stdout",
     "output_type": "stream",
     "text": [
      "[[1. 1. 1.]\n",
      " [1. 1. 1.]\n",
      " [1. 1. 1.]]\n",
      "tensor([[1., 1., 1.],\n",
      "        [1., 1., 1.],\n",
      "        [1., 1., 1.]], dtype=torch.float64)\n",
      "================================\n",
      "torch.Size([3, 3])\n"
     ]
    }
   ],
   "source": [
    "##############通过troch.tensor创建\n",
    "\n",
    "arr = np.ones((3,3))\n",
    "print(arr)\n",
    "\n",
    "t = torch.tensor(arr)\n",
    "print(t)\n",
    "print(\"================================\")\n",
    "print(t.shape)\n"
   ]
  },
  {
   "cell_type": "code",
   "execution_count": 19,
   "id": "b8928977",
   "metadata": {
    "scrolled": true
   },
   "outputs": [
    {
     "name": "stdout",
     "output_type": "stream",
     "text": [
      "numpy arr: [[1 2 3]\n",
      " [4 5 6]]\n",
      "tensor: tensor([[1, 2, 3],\n",
      "        [4, 5, 6]], dtype=torch.int32)\n",
      "numpy arr: [[-1  2  3]\n",
      " [ 4  5  6]]\n",
      "tensor: tensor([[-1,  2,  3],\n",
      "        [ 4,  5,  6]], dtype=torch.int32)\n",
      "numpy arr: [[-5  2  3]\n",
      " [ 4  5  6]]\n",
      "tensor: tensor([[-5,  2,  3],\n",
      "        [ 4,  5,  6]], dtype=torch.int32)\n"
     ]
    }
   ],
   "source": [
    "####################通过torch.from_numpy创建\n",
    "arr1 = np.array([[1,2,3],[4,5,6]])\n",
    "t1 = torch.from_numpy(arr1)\n",
    "print(\"numpy arr:\",arr1)\n",
    "print(\"tensor:\",t1)\n",
    "\n",
    "arr1[0][0] = -1\n",
    "print(\"numpy arr:\",arr1)\n",
    "print(\"tensor:\",t1)\n",
    "\n",
    "t1[0,0] = -5\n",
    "print(\"numpy arr:\",arr1)\n",
    "print(\"tensor:\",t1)"
   ]
  },
  {
   "cell_type": "code",
   "execution_count": 23,
   "id": "8fe9aad7",
   "metadata": {},
   "outputs": [
    {
     "name": "stdout",
     "output_type": "stream",
     "text": [
      "tensor([[0, 0, 0],\n",
      "        [0, 0, 0],\n",
      "        [0, 0, 0]]) \n",
      " tensor([[0, 0, 0],\n",
      "        [0, 0, 0],\n",
      "        [0, 0, 0]])\n",
      "2819767161280 2819767161280 True\n"
     ]
    }
   ],
   "source": [
    "###################通过数值创建\n",
    "\n",
    "out_t = torch.tensor([1])\n",
    "t = torch.zeros((3,3),out = out_t)\n",
    "print(t,'\\n',out_t)\n",
    "print(id(t),id(out_t),id(t)==id(out_t))"
   ]
  },
  {
   "cell_type": "code",
   "execution_count": 27,
   "id": "fca42979",
   "metadata": {},
   "outputs": [
    {
     "name": "stdout",
     "output_type": "stream",
     "text": [
      "tensor([[10, 10, 10],\n",
      "        [10, 10, 10],\n",
      "        [10, 10, 10]])\n",
      "tensor([[8, 8, 8],\n",
      "        [8, 8, 8]])\n"
     ]
    }
   ],
   "source": [
    "#########################full\n",
    "t = torch.full((3,3),10)\n",
    "print(t)\n",
    "t1 = torch.full((2,3),8)\n",
    "print(t1)"
   ]
  },
  {
   "cell_type": "code",
   "execution_count": 32,
   "id": "e0a29aee",
   "metadata": {},
   "outputs": [
    {
     "name": "stdout",
     "output_type": "stream",
     "text": [
      "tensor([2, 5, 8])\n",
      "tensor([1, 2, 3, 4, 5, 6, 7])\n"
     ]
    }
   ],
   "source": [
    "#############arange 等差张量\n",
    "t = torch.arange(2,10,3)\n",
    "print(t)\n",
    "\n",
    "t1 = torch.arange(1,8,1)\n",
    "print(t1)"
   ]
  },
  {
   "cell_type": "code",
   "execution_count": 38,
   "id": "222bf7d7",
   "metadata": {},
   "outputs": [
    {
     "name": "stdout",
     "output_type": "stream",
     "text": [
      "tensor([ 2.0000,  2.8889,  3.7778,  4.6667,  5.5556,  6.4444,  7.3333,  8.2222,\n",
      "         9.1111, 10.0000])\n",
      "tensor([ 1.,  2.,  3.,  4.,  5.,  6.,  7.,  8.,  9., 10.])\n"
     ]
    }
   ],
   "source": [
    "#############linspce均分张量\n",
    "t = torch.linspace(2,10,10)\n",
    "print(t)\n",
    "\n",
    "t1 = torch.linspace(1,10,10)\n",
    "print(t1)"
   ]
  },
  {
   "cell_type": "code",
   "execution_count": 40,
   "id": "549a34a7",
   "metadata": {},
   "outputs": [
    {
     "name": "stdout",
     "output_type": "stream",
     "text": [
      "tensor([[1., 0., 0., 0., 0.],\n",
      "        [0., 1., 0., 0., 0.],\n",
      "        [0., 0., 1., 0., 0.]])\n",
      "tensor([[1., 0., 0., 0., 0.],\n",
      "        [0., 1., 0., 0., 0.],\n",
      "        [0., 0., 1., 0., 0.],\n",
      "        [0., 0., 0., 1., 0.],\n",
      "        [0., 0., 0., 0., 1.]])\n"
     ]
    }
   ],
   "source": [
    "#######eye 对角矩阵张量\n",
    "t = torch.eye(3,5)\n",
    "print(t)\n",
    "\n",
    "t = torch.eye(5,5)\n",
    "print(t)"
   ]
  },
  {
   "cell_type": "code",
   "execution_count": 10,
   "id": "8473258a",
   "metadata": {},
   "outputs": [
    {
     "name": "stdout",
     "output_type": "stream",
     "text": [
      "tensor([1., 2., 3., 4.])\n",
      "tensor([-1.1264,  1.5874, -1.9374,  5.3314])\n"
     ]
    }
   ],
   "source": [
    "# mean 张量 std张量\n",
    "mean = torch.arange(1,5,dtype=torch.float)\n",
    "std = torch.arange(1,5,dtype=torch.float)\n",
    "t_normal = torch.normal(mean,std)\n",
    "print(t_normal)"
   ]
  },
  {
   "cell_type": "code",
   "execution_count": 8,
   "id": "947d51be",
   "metadata": {},
   "outputs": [
    {
     "name": "stdout",
     "output_type": "stream",
     "text": [
      "tensor([ 0.0944,  1.1896, -0.4228,  2.0375])\n"
     ]
    }
   ],
   "source": [
    "# mean 标量 std标量\n",
    "t_normal = torch.normal(0.,1.,size=(4,))\n",
    "print(t_normal)"
   ]
  },
  {
   "cell_type": "code",
   "execution_count": 9,
   "id": "dbb4dcfe",
   "metadata": {},
   "outputs": [
    {
     "name": "stdout",
     "output_type": "stream",
     "text": [
      "tensor([1.8252, 2.2874, 2.7354, 3.7257])\n"
     ]
    }
   ],
   "source": [
    "# mean 张量 std标量\n",
    "mean = torch.arange(1,5,dtype=torch.float)\n",
    "std = 1\n",
    "t_normal = torch.normal(mean,std)\n",
    "print(t_normal)"
   ]
  },
  {
   "cell_type": "code",
   "execution_count": 11,
   "id": "f6ca627c",
   "metadata": {},
   "outputs": [
    {
     "name": "stdout",
     "output_type": "stream",
     "text": [
      "tensor([2, 7, 6, 9, 4, 3, 1, 0, 5, 8])\n"
     ]
    }
   ],
   "source": [
    "#########随机序列\n",
    "t = torch.randperm(10)\n",
    "print(t)"
   ]
  },
  {
   "cell_type": "code",
   "execution_count": 32,
   "id": "23b4907f",
   "metadata": {
    "scrolled": true
   },
   "outputs": [
    {
     "name": "stdout",
     "output_type": "stream",
     "text": [
      "(tensor([[1., 1., 1.],\n",
      "        [1., 1., 1.]]), tensor([[1., 1., 1.],\n",
      "        [1., 1., 1.]]), tensor([[1.],\n",
      "        [1.]]))\n",
      "第1个张量为:tensor([[1., 1., 1.],\n",
      "        [1., 1., 1.]]),shape is torch.Size([2, 3])\n",
      "第2个张量为:tensor([[1., 1., 1.],\n",
      "        [1., 1., 1.]]),shape is torch.Size([2, 3])\n",
      "第3个张量为:tensor([[1.],\n",
      "        [1.]]),shape is torch.Size([2, 1])\n",
      "\n",
      "\n",
      "第1个张量为:tensor([[1.],\n",
      "        [1.]]),shape is torch.Size([2, 1])\n",
      "第2个张量为:tensor([[1.],\n",
      "        [1.]]),shape is torch.Size([2, 1])\n",
      "第3个张量为:tensor([[1.],\n",
      "        [1.]]),shape is torch.Size([2, 1])\n",
      "第4个张量为:tensor([[1.],\n",
      "        [1.]]),shape is torch.Size([2, 1])\n",
      "第5个张量为:tensor([[1.],\n",
      "        [1.]]),shape is torch.Size([2, 1])\n",
      "第6个张量为:tensor([[1.],\n",
      "        [1.]]),shape is torch.Size([2, 1])\n",
      "第7个张量为:tensor([[1.],\n",
      "        [1.]]),shape is torch.Size([2, 1])\n",
      "\n",
      "\n",
      "第1个张量为:tensor([[1., 1.],\n",
      "        [1., 1.]]),shape is torch.Size([2, 2])\n",
      "第2个张量为:tensor([[1.],\n",
      "        [1.]]),shape is torch.Size([2, 1])\n",
      "第3个张量为:tensor([[1., 1.],\n",
      "        [1., 1.]]),shape is torch.Size([2, 2])\n"
     ]
    }
   ],
   "source": [
    "#####################################################张量切分\n",
    "a = torch.ones((2,7))\n",
    "#print(a)\n",
    "list_of_tensors = torch.chunk(a,dim=1,chunks=3)\n",
    "print(list_of_tensors)\n",
    "for x,t in enumerate(list_of_tensors):\n",
    "    print(\"第{}个张量为:{},shape is {}\".format(x+1,t,t.shape))\n",
    "print(\"\\n\")\n",
    "list_of_tensors = torch.chunk(a,dim=1,chunks=7)\n",
    "for idx,t in enumerate(list_of_tensors):\n",
    "    print(\"第{}个张量为:{},shape is {}\".format(idx+1,t,t.shape))\n",
    "print(\"\\n\")\n",
    "\n",
    "a = torch.ones((2,5))\n",
    "#print(a)\n",
    "list_of_tensors = torch.split(a,dim=1,split_size_or_sections=[2,1,2])\n",
    "for idx,t in enumerate(list_of_tensors):\n",
    "    print(\"第{}个张量为:{},shape is {}\".format(idx+1,t,t.shape))"
   ]
  },
  {
   "cell_type": "code",
   "execution_count": 41,
   "id": "4560d6ed",
   "metadata": {},
   "outputs": [
    {
     "name": "stdout",
     "output_type": "stream",
     "text": [
      "t:\n",
      "tensor([[4, 6, 4],\n",
      "        [0, 6, 0],\n",
      "        [5, 8, 6]])\n",
      "t_select:\n",
      "tensor([[4, 4],\n",
      "        [0, 0],\n",
      "        [5, 6]])\n",
      "t:\n",
      "tensor([[4, 6, 4],\n",
      "        [0, 6, 0],\n",
      "        [5, 8, 6]])\n",
      "t_select:\n",
      "tensor([[4],\n",
      "        [0],\n",
      "        [5]])\n"
     ]
    }
   ],
   "source": [
    "########################################张量索引\n",
    "#index_select\n",
    "t = torch.randint(0,9,size=(3,3))\n",
    "idx = torch.tensor([0,2],dtype=torch.long)\n",
    "t_selet = torch.index_select(t,dim=1,index=idx)\n",
    "print(\"t:\\n{}\\nt_select:\\n{}\".format(t,t_selet))\n",
    "idx = torch.tensor([0],dtype=torch.long)\n",
    "t_selet = torch.index_select(t,dim=1,index=idx)\n",
    "print(\"t:\\n{}\\nt_select:\\n{}\".format(t,t_selet))\n"
   ]
  },
  {
   "cell_type": "code",
   "execution_count": 44,
   "id": "a428af7c",
   "metadata": {},
   "outputs": [
    {
     "name": "stdout",
     "output_type": "stream",
     "text": [
      "tensor([[0, 0, 6],\n",
      "        [1, 1, 3],\n",
      "        [7, 4, 8]])\n",
      "tensor([[False, False,  True],\n",
      "        [False, False, False],\n",
      "        [ True, False,  True]])\n",
      "t:\n",
      "tensor([[0, 0, 6],\n",
      "        [1, 1, 3],\n",
      "        [7, 4, 8]])\n",
      "t_select:\n",
      "tensor([6, 7, 8])\n"
     ]
    }
   ],
   "source": [
    "#masked_select\n",
    "t = torch.randint(0,9,size=(3,3))\n",
    "print(t)\n",
    "mask = t.gt(5)\n",
    "t_selet = torch.masked_select(t,mask)\n",
    "print(mask)\n",
    "print(\"t:\\n{}\\nt_select:\\n{}\".format(t,t_selet))"
   ]
  },
  {
   "cell_type": "code",
   "execution_count": null,
   "id": "3106f285",
   "metadata": {},
   "outputs": [],
   "source": []
  },
  {
   "cell_type": "code",
   "execution_count": null,
   "id": "c570d4d4",
   "metadata": {},
   "outputs": [],
   "source": []
  }
 ],
 "metadata": {
  "kernelspec": {
   "display_name": "Python 3 (ipykernel)",
   "language": "python",
   "name": "python3"
  },
  "language_info": {
   "codemirror_mode": {
    "name": "ipython",
    "version": 3
   },
   "file_extension": ".py",
   "mimetype": "text/x-python",
   "name": "python",
   "nbconvert_exporter": "python",
   "pygments_lexer": "ipython3",
   "version": "3.8.11"
  }
 },
 "nbformat": 4,
 "nbformat_minor": 5
}
